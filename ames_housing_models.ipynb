{
 "cells": [
  {
   "cell_type": "markdown",
   "metadata": {},
   "source": [
    "# Stacking Regression Models for Better Prediction"
   ]
  },
  {
   "cell_type": "code",
   "execution_count": 1,
   "metadata": {},
   "outputs": [],
   "source": [
    "# import the necessary libraries\n",
    "import os\n",
    "import numpy as np\n",
    "import pandas as pd\n",
    "import re\n",
    "from sklearn.linear_model import LinearRegression\n",
    "import seaborn as sns\n",
    "from scipy import stats\n",
    "from sklearn.preprocessing import LabelEncoder\n",
    "from sklearn.preprocessing import OrdinalEncoder\n",
    "from sklearn.preprocessing import OneHotEncoder\n",
    "from sklearn.preprocessing import StandardScaler\n",
    "from sklearn.compose import ColumnTransformer\n",
    "from sklearn.compose import make_column_transformer\n",
    "from sklearn.ensemble import RandomForestRegressor\n",
    "from sklearn.pipeline import Pipeline\n",
    "from sklearn.model_selection import cross_val_score\n",
    "from sklearn.model_selection import KFold\n",
    "from sklearn.model_selection import GridSearchCV\n",
    "from sklearn.linear_model import Lasso\n",
    "from sklearn.linear_model import LinearRegression\n",
    "import xgboost as xgb\n",
    "from sklearn.metrics import mean_squared_error as MSE\n",
    "from sklearn.ensemble import StackingRegressor\n",
    "from sklearn.model_selection import KFold, cross_val_score\n",
    "from sklearn.kernel_ridge import KernelRidge\n",
    "from sklearn.pipeline import make_pipeline\n",
    "from sklearn.linear_model import Ridge\n",
    "from sklearn.preprocessing import RobustScaler"
   ]
  },
  {
   "cell_type": "code",
   "execution_count": 152,
   "metadata": {},
   "outputs": [],
   "source": [
    "# navigate to project folder\n",
    "os.chdir('./ML_project/Stacked-Regression-Prediction')"
   ]
  },
  {
   "cell_type": "code",
   "execution_count": 153,
   "metadata": {},
   "outputs": [],
   "source": [
    "# read in functionality from cleaning and feature engineering scripts\n",
    "from cleaner import *\n",
    "from feature_engineering import *"
   ]
  },
  {
   "cell_type": "code",
   "execution_count": 154,
   "metadata": {},
   "outputs": [],
   "source": [
    "# clean train and test data\n",
    "train,test=cleanmydata()"
   ]
  },
  {
   "cell_type": "code",
   "execution_count": 155,
   "metadata": {},
   "outputs": [],
   "source": [
    "# engineer features\n",
    "train,test=ftrengineer(train,test)"
   ]
  },
  {
   "cell_type": "code",
   "execution_count": 156,
   "metadata": {},
   "outputs": [],
   "source": [
    "# separate target and features\n",
    "X_train=train.drop(columns=('SalePrice'))\n",
    "y_train=np.log(train['SalePrice'])"
   ]
  },
  {
   "cell_type": "code",
   "execution_count": 157,
   "metadata": {},
   "outputs": [],
   "source": [
    "# save numeric and categorical features\n",
    "nums = [col for col in X_train.columns if\\\n",
    "        X_train[col].dtype=='int64' or X_train[col].dtype=='float64']\n",
    "cats = [\n",
    "    col for col in X_train.columns if X_train[col].dtype=='object']"
   ]
  },
  {
   "cell_type": "markdown",
   "metadata": {},
   "source": [
    "## Create column transformers"
   ]
  },
  {
   "cell_type": "code",
   "execution_count": 158,
   "metadata": {},
   "outputs": [],
   "source": [
    "# one hot encoder (linear models)\n",
    "ohe_col_trans=make_column_transformer(\n",
    "    (OneHotEncoder(drop='first', handle_unknown='ignore'),cats),\n",
    "    remainder='passthrough', sparse_threshold=0)"
   ]
  },
  {
   "cell_type": "code",
   "execution_count": 159,
   "metadata": {},
   "outputs": [],
   "source": [
    "# ordinal encoder (tree models)\n",
    "ord_col_trans=make_column_transformer(\n",
    "    (OrdinalEncoder(handle_unknown='use_encoded_value',unknown_value=999),cats),\n",
    "    remainder='passthrough')"
   ]
  },
  {
   "cell_type": "markdown",
   "metadata": {},
   "source": [
    "# Models"
   ]
  },
  {
   "cell_type": "markdown",
   "metadata": {},
   "source": [
    "#### RF"
   ]
  },
  {
   "cell_type": "code",
   "execution_count": 185,
   "metadata": {},
   "outputs": [],
   "source": [
    "# instantiate random forest regressor\n",
    "rfreg=RandomForestRegressor(n_estimators=800,\n",
    "                              max_depth =7,\n",
    "                              criterion='squared_error')"
   ]
  },
  {
   "cell_type": "code",
   "execution_count": 186,
   "metadata": {},
   "outputs": [],
   "source": [
    "# create pipeline with rfr and ordinal column transformer\n",
    "rf_pipe=make_pipeline(ord_col_trans, rfreg)"
   ]
  },
  {
   "cell_type": "code",
   "execution_count": 187,
   "metadata": {},
   "outputs": [
    {
     "data": {
      "text/plain": [
       "0.9476188495063259"
      ]
     },
     "execution_count": 187,
     "metadata": {},
     "output_type": "execute_result"
    }
   ],
   "source": [
    "# check functionality \n",
    "rf_pipe.fit(X_train,y_train).score(X_train,y_train)"
   ]
  },
  {
   "cell_type": "markdown",
   "metadata": {},
   "source": [
    "#### Lasso"
   ]
  },
  {
   "cell_type": "code",
   "execution_count": 188,
   "metadata": {},
   "outputs": [],
   "source": [
    "# instantiate lasso model\n",
    "lasso=Lasso(alpha=0.001)"
   ]
  },
  {
   "cell_type": "code",
   "execution_count": 189,
   "metadata": {},
   "outputs": [],
   "source": [
    "# make pipeline with one hot encoder column transformer \n",
    "lasso_pipe=make_pipeline(ohe_col_trans,StandardScaler(), lasso)"
   ]
  },
  {
   "cell_type": "code",
   "execution_count": 190,
   "metadata": {},
   "outputs": [
    {
     "data": {
      "text/plain": [
       "0.9338799608805253"
      ]
     },
     "execution_count": 190,
     "metadata": {},
     "output_type": "execute_result"
    }
   ],
   "source": [
    "# test pipeline\n",
    "lasso_pipe.fit(X_train,y_train).score(X_train,y_train)"
   ]
  },
  {
   "cell_type": "markdown",
   "metadata": {},
   "source": [
    "#### XGB"
   ]
  },
  {
   "cell_type": "code",
   "execution_count": 194,
   "metadata": {},
   "outputs": [],
   "source": [
    "# instantiate xgb regressor\n",
    "xgbr=xgb.XGBRegressor(learning_rate=0.03,\n",
    "                              n_estimators=800,\n",
    "                              max_depth =3,\n",
    "                              eval_metric='rmsle')"
   ]
  },
  {
   "cell_type": "code",
   "execution_count": 192,
   "metadata": {},
   "outputs": [],
   "source": [
    "# create pipeline with ordinal encoder\n",
    "xgb_pipe=make_pipeline(ord_col_trans,xgbr)"
   ]
  },
  {
   "cell_type": "code",
   "execution_count": 193,
   "metadata": {},
   "outputs": [
    {
     "data": {
      "text/plain": [
       "0.9704818389948425"
      ]
     },
     "execution_count": 193,
     "metadata": {},
     "output_type": "execute_result"
    }
   ],
   "source": [
    "# check pipeline works\n",
    "xgb_pipe.fit(X_train,y_train).score(X_train,y_train)"
   ]
  },
  {
   "cell_type": "markdown",
   "metadata": {},
   "source": [
    "#### Stacking Regressor"
   ]
  },
  {
   "cell_type": "code",
   "execution_count": 195,
   "metadata": {},
   "outputs": [],
   "source": [
    "# add base model pipelines to base models\n",
    "base_models = [('lasso',lasso_pipe),\n",
    "               ('xgb',xgb_pipe),\n",
    "              ('rfr',rf_pipe)]\n",
    "\n",
    "# save ridge model as meta model\n",
    "meta_model =Ridge()\n",
    "\n",
    "# create stacking regressor model\n",
    "stacking_model = StackingRegressor(estimators=base_models, \n",
    "                                    final_estimator=meta_model,\n",
    "                                  cv=5)"
   ]
  },
  {
   "cell_type": "code",
   "execution_count": 196,
   "metadata": {
    "scrolled": false
   },
   "outputs": [
    {
     "name": "stderr",
     "output_type": "stream",
     "text": [
      "/opt/anaconda3/lib/python3.8/site-packages/sklearn/preprocessing/_encoders.py:170: UserWarning: Found unknown categories in columns [13, 24] during transform. These unknown categories will be encoded as all zeros\n",
      "  warnings.warn(\n",
      "/opt/anaconda3/lib/python3.8/site-packages/sklearn/preprocessing/_encoders.py:170: UserWarning: Found unknown categories in columns [9, 22, 24] during transform. These unknown categories will be encoded as all zeros\n",
      "  warnings.warn(\n",
      "/opt/anaconda3/lib/python3.8/site-packages/sklearn/preprocessing/_encoders.py:170: UserWarning: Found unknown categories in columns [9, 15, 25] during transform. These unknown categories will be encoded as all zeros\n",
      "  warnings.warn(\n",
      "/opt/anaconda3/lib/python3.8/site-packages/sklearn/preprocessing/_encoders.py:170: UserWarning: Found unknown categories in columns [5, 9, 14] during transform. These unknown categories will be encoded as all zeros\n",
      "  warnings.warn(\n",
      "/opt/anaconda3/lib/python3.8/site-packages/sklearn/preprocessing/_encoders.py:170: UserWarning: Found unknown categories in columns [9, 12, 13, 14, 15, 21] during transform. These unknown categories will be encoded as all zeros\n",
      "  warnings.warn(\n"
     ]
    },
    {
     "data": {
      "text/plain": [
       "StackingRegressor(cv=5,\n",
       "                  estimators=[('lasso',\n",
       "                               Pipeline(steps=[('columntransformer',\n",
       "                                                ColumnTransformer(remainder='passthrough',\n",
       "                                                                  sparse_threshold=0,\n",
       "                                                                  transformers=[('onehotencoder',\n",
       "                                                                                 OneHotEncoder(drop='first',\n",
       "                                                                                               handle_unknown='ignore'),\n",
       "                                                                                 ['MSSubClass',\n",
       "                                                                                  'MSZoning',\n",
       "                                                                                  'Street',\n",
       "                                                                                  'LotShape',\n",
       "                                                                                  'LandContour',\n",
       "                                                                                  'Utilities',\n",
       "                                                                                  'LotConfig',\n",
       "                                                                                  'LandSlope',\n",
       "                                                                                  'Condition1',\n",
       "                                                                                  'Condition2',\n",
       "                                                                                  'Bld...\n",
       "                                                                                  'RoofStyle',\n",
       "                                                                                  'RoofMatl',\n",
       "                                                                                  'Exterior1st',\n",
       "                                                                                  'Exterior2nd',\n",
       "                                                                                  'MasVnrType',\n",
       "                                                                                  'Foundation',\n",
       "                                                                                  'BsmtExposure',\n",
       "                                                                                  'BsmtFinType1',\n",
       "                                                                                  'BsmtFinType2',\n",
       "                                                                                  'Heating',\n",
       "                                                                                  'HeatingQC',\n",
       "                                                                                  'CentralAir',\n",
       "                                                                                  'Electrical',\n",
       "                                                                                  'Functional',\n",
       "                                                                                  'GarageType',\n",
       "                                                                                  'GarageFinish',\n",
       "                                                                                  'GarageQual',\n",
       "                                                                                  'PavedDrive', ...])])),\n",
       "                                               ('randomforestregressor',\n",
       "                                                RandomForestRegressor(max_depth=7,\n",
       "                                                                      n_estimators=800))]))],\n",
       "                  final_estimator=Ridge())"
      ]
     },
     "execution_count": 196,
     "metadata": {},
     "output_type": "execute_result"
    }
   ],
   "source": [
    "stacking_model.fit(X_train,y_train)"
   ]
  },
  {
   "cell_type": "code",
   "execution_count": 198,
   "metadata": {
    "scrolled": true
   },
   "outputs": [
    {
     "data": {
      "text/plain": [
       "0.9579442924155568"
      ]
     },
     "execution_count": 198,
     "metadata": {},
     "output_type": "execute_result"
    }
   ],
   "source": [
    "stacking_model.score(X_train,y_train)"
   ]
  },
  {
   "cell_type": "code",
   "execution_count": 206,
   "metadata": {},
   "outputs": [
    {
     "name": "stderr",
     "output_type": "stream",
     "text": [
      "/opt/anaconda3/lib/python3.8/site-packages/sklearn/preprocessing/_encoders.py:170: UserWarning: Found unknown categories in columns [0, 27, 28] during transform. These unknown categories will be encoded as all zeros\n",
      "  warnings.warn(\n"
     ]
    }
   ],
   "source": [
    "# make predictions on test data, save predictions\n",
    "predictions=pd.DataFrame(\n",
    "    np.exp(stacking_model.predict(test)).reshape(-1,1))"
   ]
  },
  {
   "cell_type": "markdown",
   "metadata": {},
   "source": [
    "## Submission"
   ]
  },
  {
   "cell_type": "code",
   "execution_count": 200,
   "metadata": {},
   "outputs": [],
   "source": [
    "# recreate Id column for submission\n",
    "idnum_test=pd.DataFrame(\n",
    "    (np.arange(1461,2920)).reshape(-1,1), columns={'Id'})"
   ]
  },
  {
   "cell_type": "code",
   "execution_count": 209,
   "metadata": {},
   "outputs": [],
   "source": [
    "# concat Id and predictions\n",
    "submission=pd.concat([idnum_test,predictions], axis=1)"
   ]
  },
  {
   "cell_type": "code",
   "execution_count": 203,
   "metadata": {},
   "outputs": [],
   "source": [
    "# label column\n",
    "submission=submission.rename(columns={0: \"SalePrice\"})"
   ]
  },
  {
   "cell_type": "code",
   "execution_count": 204,
   "metadata": {},
   "outputs": [],
   "source": [
    "# export to CSV\n",
    "submission.to_csv('./my25_submission.csv', index=False)"
   ]
  },
  {
   "cell_type": "code",
   "execution_count": 205,
   "metadata": {},
   "outputs": [
    {
     "name": "stdout",
     "output_type": "stream",
     "text": [
      "100%|██████████████████████████████████████| 33.7k/33.7k [00:00<00:00, 41.2kB/s]\n",
      "Successfully submitted to House Prices - Advanced Regression Techniques"
     ]
    }
   ],
   "source": [
    "# submit predictions directly to Kaggle \n",
    "! kaggle competitions submit -c\\\n",
    "house-prices-advanced-regression-techniques\\\n",
    "-f my25_submission.csv -m \"new pipelines, cv=5, score: 957\""
   ]
  }
 ],
 "metadata": {
  "kernelspec": {
   "display_name": "Python 3",
   "language": "python",
   "name": "python3"
  },
  "language_info": {
   "codemirror_mode": {
    "name": "ipython",
    "version": 3
   },
   "file_extension": ".py",
   "mimetype": "text/x-python",
   "name": "python",
   "nbconvert_exporter": "python",
   "pygments_lexer": "ipython3",
   "version": "3.8.3"
  }
 },
 "nbformat": 4,
 "nbformat_minor": 4
}
